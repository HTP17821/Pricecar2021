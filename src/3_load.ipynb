{
 "cells": [
  {
   "cell_type": "markdown",
   "metadata": {},
   "source": [
    "# 1. Setup"
   ]
  },
  {
   "cell_type": "code",
   "execution_count": 3,
   "metadata": {},
   "outputs": [],
   "source": [
    "import os\n",
    "import pyodbc\n",
    "import pandas as pd\n"
   ]
  },
  {
   "cell_type": "markdown",
   "metadata": {},
   "source": [
    "# 2. Connect"
   ]
  },
  {
   "cell_type": "code",
   "execution_count": 4,
   "metadata": {},
   "outputs": [
    {
     "name": "stdout",
     "output_type": "stream",
     "text": [
      "Kết nối đến SQL Server (CarSales2021) thành công!\n"
     ]
    }
   ],
   "source": [
    "# Kết nối SQL Server\n",
    "def create_sqlserver_connection(server='HTP-178\\\\HTP178', db_name='CarSales2021'):\n",
    "    try:\n",
    "        conn = pyodbc.connect(\n",
    "            driver='{ODBC Driver 17 for SQL Server}',\n",
    "            server=server,\n",
    "            database=db_name,\n",
    "            trusted_connection='yes'\n",
    "        )\n",
    "        print(f\"Kết nối đến SQL Server ({db_name}) thành công!\")\n",
    "        return conn\n",
    "    except Exception as e:\n",
    "        print(f\"Không thể kết nối đến SQL Server: {e}\")\n",
    "        return None\n",
    "\n",
    "conn = create_sqlserver_connection()\n",
    "cursor = conn.cursor()\n"
   ]
  },
  {
   "cell_type": "markdown",
   "metadata": {},
   "source": [
    "# 3. Create DB"
   ]
  },
  {
   "cell_type": "code",
   "execution_count": null,
   "metadata": {},
   "outputs": [],
   "source": []
  },
  {
   "cell_type": "markdown",
   "metadata": {},
   "source": [
    "# 4. Create Table"
   ]
  },
  {
   "cell_type": "code",
   "execution_count": 5,
   "metadata": {},
   "outputs": [
    {
     "name": "stdout",
     "output_type": "stream",
     "text": [
      "Bảng fact_car_sale đã tồn tại, sẽ xóa và tạo lại bảng\n",
      "Đã xóa bảng fact_car_sale.\n",
      "Đã xóa các bảng còn lại.\n",
      "Tạo bảng mới thành công!\n"
     ]
    }
   ],
   "source": [
    "sql_file_path = r\"D:\\HTP\\Project-personal\\PriceCar\\database\\db.sql\"\n",
    "\n",
    "try:\n",
    "    cursor.execute(\"SELECT COUNT(*) FROM INFORMATION_SCHEMA.TABLES WHERE TABLE_NAME = 'fact_car_sale'\")\n",
    "    table_exists = cursor.fetchone()[0]\n",
    "\n",
    "    if table_exists == 0:  # Nếu bảng chưa tồn tại, chạy file SQL\n",
    "        with open(sql_file_path, \"r\", encoding=\"utf-8\") as f:\n",
    "            sql_script = f.read()\n",
    "\n",
    "        for statement in sql_script.split(\";\"):\n",
    "            if statement.strip():\n",
    "                cursor.execute(statement)\n",
    "        conn.commit()\n",
    "        print(\"Tạo bảng thành công!\")\n",
    "    else:\n",
    "        print(\"Bảng fact_car_sale đã tồn tại, sẽ xóa và tạo lại bảng\")\n",
    "\n",
    "        # Xóa bảng fact_car_sale trước\n",
    "        cursor.execute(\"DROP TABLE IF EXISTS fact_car_sale\")\n",
    "        conn.commit()\n",
    "        print(\"Đã xóa bảng fact_car_sale.\")\n",
    "\n",
    "        # Xóa các bảng còn lại sau\n",
    "        cursor.execute(\"DROP TABLE IF EXISTS dim_car_model\")\n",
    "        cursor.execute(\"DROP TABLE IF EXISTS dim_car_type\")\n",
    "        cursor.execute(\"DROP TABLE IF EXISTS dim_color\")\n",
    "        cursor.execute(\"DROP TABLE IF EXISTS dim_poster\")\n",
    "        cursor.execute(\"DROP TABLE IF EXISTS dim_car_condition\")\n",
    "        conn.commit()\n",
    "        print(\"Đã xóa các bảng còn lại.\")\n",
    "\n",
    "        # Tạo lại các bảng từ file SQL\n",
    "        with open(sql_file_path, \"r\", encoding=\"utf-8\") as f:\n",
    "            sql_script = f.read()\n",
    "\n",
    "        for statement in sql_script.split(\";\"):\n",
    "            if statement.strip():\n",
    "                cursor.execute(statement)\n",
    "        conn.commit()\n",
    "        print(\"Tạo bảng mới thành công!\")\n",
    "\n",
    "except Exception as e:\n",
    "    print(f\"Lỗi khi tạo bảng: {e}\")\n"
   ]
  },
  {
   "cell_type": "markdown",
   "metadata": {},
   "source": [
    "# 5. Insert data"
   ]
  },
  {
   "cell_type": "code",
   "execution_count": 6,
   "metadata": {},
   "outputs": [
    {
     "name": "stdout",
     "output_type": "stream",
     "text": [
      "Đã insert dữ liệu vào dim_car_model từ D:\\HTP\\Project-personal\\PriceCar\\dataset\\processed\\Dim_Car_Model.csv\n",
      "Đã insert dữ liệu vào dim_car_type từ D:\\HTP\\Project-personal\\PriceCar\\dataset\\processed\\Dim_Car_Type.csv\n",
      "Đã insert dữ liệu vào dim_color từ D:\\HTP\\Project-personal\\PriceCar\\dataset\\processed\\Dim_Color.csv\n",
      "Đã insert dữ liệu vào dim_poster từ D:\\HTP\\Project-personal\\PriceCar\\dataset\\processed\\Dim_Poster.csv\n",
      "Đã insert dữ liệu vào dim_car_condition từ D:\\HTP\\Project-personal\\PriceCar\\dataset\\processed\\Dim_Car_Condition.csv\n",
      "Đã insert dữ liệu vào fact_car_sale từ D:\\HTP\\Project-personal\\PriceCar\\dataset\\processed\\Fact_Car_Sale.csv\n"
     ]
    }
   ],
   "source": [
    "# Danh sách file CSV chứa dữ liệu\n",
    "CSV_FILES = {\n",
    "    \"dim_car_model\": r\"D:\\HTP\\Project-personal\\PriceCar\\dataset\\processed\\Dim_Car_Model.csv\",\n",
    "    \"dim_car_type\": r\"D:\\HTP\\Project-personal\\PriceCar\\dataset\\processed\\Dim_Car_Type.csv\",\n",
    "    \"dim_color\": r\"D:\\HTP\\Project-personal\\PriceCar\\dataset\\processed\\Dim_Color.csv\",\n",
    "    \"dim_poster\": r\"D:\\HTP\\Project-personal\\PriceCar\\dataset\\processed\\Dim_Poster.csv\",\n",
    "    \"dim_car_condition\": r\"D:\\HTP\\Project-personal\\PriceCar\\dataset\\processed\\Dim_Car_Condition.csv\",\n",
    "    \"fact_car_sale\": r\"D:\\HTP\\Project-personal\\PriceCar\\dataset\\processed\\Fact_Car_Sale.csv\"\n",
    "}\n",
    "\n",
    "# Hàm insert data từ CSV vào SQL Server\n",
    "def insert_data_from_csv(conn, table_name, csv_path):\n",
    "    try:\n",
    "        df = pd.read_csv(csv_path)\n",
    "        cursor = conn.cursor()\n",
    "\n",
    "        # Tạo câu lệnh INSERT\n",
    "        columns = ', '.join(df.columns)\n",
    "        placeholders = ', '.join(['?'] * len(df.columns))\n",
    "        insert_query = f\"INSERT INTO {table_name} ({columns}) VALUES ({placeholders})\"\n",
    "\n",
    "        # Chèn từng dòng dữ liệu\n",
    "        for row in df.itertuples(index=False, name=None):\n",
    "            cursor.execute(insert_query, row)\n",
    "\n",
    "        conn.commit()\n",
    "        print(f\"Đã insert dữ liệu vào {table_name} từ {csv_path}\")\n",
    "    except Exception as e:\n",
    "        print(f\"Lỗi insert vào {table_name}: {e}\")\n",
    "\n",
    "# Insert data vào các bảng\n",
    "for table, csv_file in CSV_FILES.items():\n",
    "    if os.path.exists(csv_file):\n",
    "        insert_data_from_csv(conn, table, csv_file)\n",
    "    else:\n",
    "        print(f\"File CSV {csv_file} không tồn tại!\")\n",
    "\n",
    "# Đóng kết nối SQL Server\n",
    "cursor.close()\n",
    "conn.close()"
   ]
  }
 ],
 "metadata": {
  "kernelspec": {
   "display_name": ".venv",
   "language": "python",
   "name": "python3"
  },
  "language_info": {
   "codemirror_mode": {
    "name": "ipython",
    "version": 3
   },
   "file_extension": ".py",
   "mimetype": "text/x-python",
   "name": "python",
   "nbconvert_exporter": "python",
   "pygments_lexer": "ipython3",
   "version": "3.11.9"
  }
 },
 "nbformat": 4,
 "nbformat_minor": 2
}
