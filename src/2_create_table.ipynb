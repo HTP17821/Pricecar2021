{
 "cells": [
  {
   "cell_type": "markdown",
   "metadata": {},
   "source": [
    "# 1. Setup"
   ]
  },
  {
   "cell_type": "code",
   "execution_count": 1,
   "metadata": {},
   "outputs": [],
   "source": [
    "import pandas as pd"
   ]
  },
  {
   "cell_type": "code",
   "execution_count": 2,
   "metadata": {},
   "outputs": [],
   "source": [
    "# Đọc dữ liệu đã được transform từ file CSV\n",
    "df = pd.read_csv('D:\\\\HTP\\\\Project-personal\\\\PriceCar\\\\dataset\\\\processed\\\\car.csv')"
   ]
  },
  {
   "cell_type": "markdown",
   "metadata": {},
   "source": [
    "# 2. create_dim_table"
   ]
  },
  {
   "cell_type": "code",
   "execution_count": 3,
   "metadata": {},
   "outputs": [],
   "source": [
    "def create_dim_table(df, id_column_name, *column_names):\n",
    "    # Lấy tất cả các cột truyền vào ngoài id_column_name\n",
    "    dim_table = df[list(column_names)].drop_duplicates().reset_index(drop=True)\n",
    "    \n",
    "    # Tạo id cho các bảng Dim\n",
    "    dim_table[id_column_name] = dim_table.index + 1  # Tạo id cho bảng Dim\n",
    "    return dim_table[[id_column_name] + list(column_names)]\n",
    "\n",
    "\n",
    "# Tạo các bảng Dim\n",
    "dim_car_model = create_dim_table(df, 'car_model_id', 'car_model')\n",
    "dim_car_type = create_dim_table(df, 'car_type_id', 'car_type')\n",
    "dim_color = create_dim_table(df, 'color_id', 'out_color')\n",
    "dim_poster = create_dim_table(df, 'poster_id', 'poster_name', 'poster_add', 'poster_tel')\n",
    "dim_car_condition = create_dim_table(df, 'condition_id', 'new_old')"
   ]
  },
  {
   "cell_type": "markdown",
   "metadata": {},
   "source": [
    "# 3. create_fact_table"
   ]
  },
  {
   "cell_type": "code",
   "execution_count": 4,
   "metadata": {},
   "outputs": [
    {
     "data": {
      "text/html": [
       "<div>\n",
       "<style scoped>\n",
       "    .dataframe tbody tr th:only-of-type {\n",
       "        vertical-align: middle;\n",
       "    }\n",
       "\n",
       "    .dataframe tbody tr th {\n",
       "        vertical-align: top;\n",
       "    }\n",
       "\n",
       "    .dataframe thead th {\n",
       "        text-align: right;\n",
       "    }\n",
       "</style>\n",
       "<table border=\"1\" class=\"dataframe\">\n",
       "  <thead>\n",
       "    <tr style=\"text-align: right;\">\n",
       "      <th></th>\n",
       "      <th>car_model_id</th>\n",
       "      <th>car_type_id</th>\n",
       "      <th>color_id</th>\n",
       "      <th>poster_id</th>\n",
       "      <th>condition_id</th>\n",
       "      <th>km</th>\n",
       "      <th>door_num</th>\n",
       "      <th>seat_num</th>\n",
       "      <th>car_year</th>\n",
       "      <th>price_num</th>\n",
       "      <th>price_words</th>\n",
       "      <th>area</th>\n",
       "    </tr>\n",
       "  </thead>\n",
       "  <tbody>\n",
       "    <tr>\n",
       "      <th>0</th>\n",
       "      <td>1</td>\n",
       "      <td>1</td>\n",
       "      <td>1</td>\n",
       "      <td>1</td>\n",
       "      <td>1</td>\n",
       "      <td>0</td>\n",
       "      <td>5</td>\n",
       "      <td>7</td>\n",
       "      <td>2007</td>\n",
       "      <td>630000000</td>\n",
       "      <td>630 Triệu</td>\n",
       "      <td>TP HCM</td>\n",
       "    </tr>\n",
       "    <tr>\n",
       "      <th>1</th>\n",
       "      <td>1</td>\n",
       "      <td>1</td>\n",
       "      <td>2</td>\n",
       "      <td>15376</td>\n",
       "      <td>1</td>\n",
       "      <td>0</td>\n",
       "      <td>5</td>\n",
       "      <td>7</td>\n",
       "      <td>2007</td>\n",
       "      <td>580000000</td>\n",
       "      <td>580 Triệu</td>\n",
       "      <td>Hà Nội</td>\n",
       "    </tr>\n",
       "    <tr>\n",
       "      <th>2</th>\n",
       "      <td>1</td>\n",
       "      <td>1</td>\n",
       "      <td>2</td>\n",
       "      <td>3</td>\n",
       "      <td>1</td>\n",
       "      <td>0</td>\n",
       "      <td>5</td>\n",
       "      <td>7</td>\n",
       "      <td>2006</td>\n",
       "      <td>465000000</td>\n",
       "      <td>465 Triệu</td>\n",
       "      <td>TP HCM</td>\n",
       "    </tr>\n",
       "    <tr>\n",
       "      <th>3</th>\n",
       "      <td>1</td>\n",
       "      <td>1</td>\n",
       "      <td>1</td>\n",
       "      <td>4</td>\n",
       "      <td>2</td>\n",
       "      <td>0</td>\n",
       "      <td>5</td>\n",
       "      <td>7</td>\n",
       "      <td>2016</td>\n",
       "      <td>4000000000</td>\n",
       "      <td>4 Tỷ 665 Triệu</td>\n",
       "      <td>TP HCM</td>\n",
       "    </tr>\n",
       "    <tr>\n",
       "      <th>4</th>\n",
       "      <td>1</td>\n",
       "      <td>1</td>\n",
       "      <td>3</td>\n",
       "      <td>5</td>\n",
       "      <td>1</td>\n",
       "      <td>9600</td>\n",
       "      <td>5</td>\n",
       "      <td>7</td>\n",
       "      <td>2015</td>\n",
       "      <td>3000000000</td>\n",
       "      <td>3 Tỷ 400 Triệu</td>\n",
       "      <td>TP HCM</td>\n",
       "    </tr>\n",
       "  </tbody>\n",
       "</table>\n",
       "</div>"
      ],
      "text/plain": [
       "   car_model_id  car_type_id  color_id  poster_id  condition_id    km  \\\n",
       "0             1            1         1          1             1     0   \n",
       "1             1            1         2      15376             1     0   \n",
       "2             1            1         2          3             1     0   \n",
       "3             1            1         1          4             2     0   \n",
       "4             1            1         3          5             1  9600   \n",
       "\n",
       "   door_num  seat_num  car_year   price_num     price_words    area  \n",
       "0         5         7      2007   630000000       630 Triệu  TP HCM  \n",
       "1         5         7      2007   580000000       580 Triệu  Hà Nội  \n",
       "2         5         7      2006   465000000       465 Triệu  TP HCM  \n",
       "3         5         7      2016  4000000000  4 Tỷ 665 Triệu  TP HCM  \n",
       "4         5         7      2015  3000000000  3 Tỷ 400 Triệu  TP HCM  "
      ]
     },
     "execution_count": 4,
     "metadata": {},
     "output_type": "execute_result"
    }
   ],
   "source": [
    "def create_fact_table(df, dim_car_model, dim_car_type, dim_color, dim_poster, dim_car_condition):\n",
    "    # Tạo bảng Fact từ các cột số liệu và các cột cần thiết\n",
    "    fact_car_sale = df[['km', 'car_type', 'out_color', 'in_color', 'door_num', 'seat_num', \n",
    "                        'new_old', 'car_year', 'title', 'price_words', 'price_num', 'area']].copy()\n",
    "\n",
    "    # Thêm các cột khóa ngoại từ các bảng Dim\n",
    "    fact_car_sale['car_model_id'] = df['car_model'].map(dict(zip(dim_car_model['car_model'], dim_car_model['car_model_id'])))\n",
    "    fact_car_sale['car_type_id'] = df['car_type'].map(dict(zip(dim_car_type['car_type'], dim_car_type['car_type_id'])))\n",
    "    fact_car_sale['color_id'] = df['out_color'].map(dict(zip(dim_color['out_color'], dim_color['color_id'])))\n",
    "    fact_car_sale['poster_id'] = df['poster_name'].map(dict(zip(dim_poster['poster_name'], dim_poster['poster_id'])))\n",
    "    fact_car_sale['condition_id'] = df['new_old'].map(dict(zip(dim_car_condition['new_old'], dim_car_condition['condition_id'])))\n",
    "\n",
    "    # Định nghĩa thứ tự các cột\n",
    "    fact_car_sale = fact_car_sale[['car_model_id', 'car_type_id', 'color_id', 'poster_id', 'condition_id', \n",
    "                                   'km', 'door_num', 'seat_num', 'car_year', 'price_num', \n",
    "                                   'price_words', 'area']]\n",
    "    return fact_car_sale\n",
    "\n",
    "\n",
    "# Tạo bảng Fact_Car_Sale\n",
    "fact_car_sale = create_fact_table(df, dim_car_model, dim_car_type, dim_color, dim_poster, dim_car_condition)\n",
    "fact_car_sale.head()"
   ]
  },
  {
   "cell_type": "markdown",
   "metadata": {},
   "source": [
    "# 4. save"
   ]
  },
  {
   "cell_type": "code",
   "execution_count": 5,
   "metadata": {},
   "outputs": [
    {
     "name": "stdout",
     "output_type": "stream",
     "text": [
      "Đã lưu D:\\HTP\\Project-personal\\PriceCar\\dataset\\processed\\Dim_Car_Model.csv thành công.\n",
      "Đã lưu D:\\HTP\\Project-personal\\PriceCar\\dataset\\processed\\Dim_Car_Type.csv thành công.\n",
      "Đã lưu D:\\HTP\\Project-personal\\PriceCar\\dataset\\processed\\Dim_Color.csv thành công.\n",
      "Đã lưu D:\\HTP\\Project-personal\\PriceCar\\dataset\\processed\\Dim_Poster.csv thành công.\n",
      "Đã lưu D:\\HTP\\Project-personal\\PriceCar\\dataset\\processed\\Dim_Car_Condition.csv thành công.\n",
      "Đã lưu D:\\HTP\\Project-personal\\PriceCar\\dataset\\processed\\Fact_Car_Sale.csv thành công.\n"
     ]
    }
   ],
   "source": [
    "def save_to_csv(table, file_path):\n",
    "    table.to_csv(file_path, index=False)\n",
    "    print(f\"Đã lưu {file_path} thành công.\")\n",
    "\n",
    "# Lưu các bảng vào file CSV\n",
    "save_to_csv(dim_car_model, 'D:\\\\HTP\\\\Project-personal\\\\PriceCar\\\\dataset\\\\processed\\\\Dim_Car_Model.csv')\n",
    "save_to_csv(dim_car_type, 'D:\\\\HTP\\\\Project-personal\\\\PriceCar\\\\dataset\\\\processed\\\\Dim_Car_Type.csv')\n",
    "save_to_csv(dim_color, 'D:\\\\HTP\\\\Project-personal\\\\PriceCar\\\\dataset\\\\processed\\\\Dim_Color.csv')\n",
    "save_to_csv(dim_poster, 'D:\\\\HTP\\\\Project-personal\\\\PriceCar\\\\dataset\\\\processed\\\\Dim_Poster.csv')\n",
    "save_to_csv(dim_car_condition, 'D:\\\\HTP\\\\Project-personal\\\\PriceCar\\\\dataset\\\\processed\\\\Dim_Car_Condition.csv')\n",
    "save_to_csv(fact_car_sale, 'D:\\\\HTP\\\\Project-personal\\\\PriceCar\\\\dataset\\\\processed\\\\Fact_Car_Sale.csv')"
   ]
  }
 ],
 "metadata": {
  "kernelspec": {
   "display_name": ".venv",
   "language": "python",
   "name": "python3"
  },
  "language_info": {
   "codemirror_mode": {
    "name": "ipython",
    "version": 3
   },
   "file_extension": ".py",
   "mimetype": "text/x-python",
   "name": "python",
   "nbconvert_exporter": "python",
   "pygments_lexer": "ipython3",
   "version": "3.11.9"
  }
 },
 "nbformat": 4,
 "nbformat_minor": 2
}
