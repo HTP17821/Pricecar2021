{
 "cells": [
  {
   "cell_type": "markdown",
   "metadata": {},
   "source": [
    "# 1. Setup"
   ]
  },
  {
   "cell_type": "code",
   "execution_count": 1,
   "metadata": {},
   "outputs": [],
   "source": [
    "import pandas as pd\n",
    "import re\n",
    "import os"
   ]
  },
  {
   "cell_type": "markdown",
   "metadata": {},
   "source": [
    "# 2. load"
   ]
  },
  {
   "cell_type": "code",
   "execution_count": 2,
   "metadata": {},
   "outputs": [
    {
     "name": "stdout",
     "output_type": "stream",
     "text": [
      "Đọc dữ liệu thành công.\n"
     ]
    }
   ],
   "source": [
    "def read_data(file_path):\n",
    "    try:\n",
    "        df = pd.read_csv(file_path, delimiter=\"|\", engine=\"python\", \n",
    "                         on_bad_lines=\"skip\", dtype=str)  # Đọc dưới dạng chuỗi để tránh lỗi kiểu dữ liệu\n",
    "        print(\"Đọc dữ liệu thành công.\")\n",
    "        return df\n",
    "    except Exception as e:\n",
    "        print(f\"Đọc dữ liệu thất bại: {e}\")\n",
    "        return None\n",
    "\n",
    "file_path = r\"D:\\HTP\\Project-personal\\PriceCar\\dataset\\raw\\car.csv\"\n",
    "df = read_data(file_path)\n",
    "\n",
    "if df is not None:\n",
    "    df.head(2)\n"
   ]
  },
  {
   "cell_type": "markdown",
   "metadata": {},
   "source": [
    "# 3. Transform"
   ]
  },
  {
   "cell_type": "code",
   "execution_count": 3,
   "metadata": {},
   "outputs": [
    {
     "name": "stdout",
     "output_type": "stream",
     "text": [
      "Đã loại bỏ các cột: ['km_1', 'imp_exp_1']\n",
      "Đã đổi tên cột 'price' thành 'price_words'\n",
      "Đã loại bỏ dấu gạch ngang và dấu gạch dưới \n",
      "Đã tạo cột 'price_num' từ cột 'price_words'\n",
      "Đã loại bỏ các hàng có giá trị null.\n",
      "Đã loại bỏ các hàng có giá trị rỗng.\n",
      "Đã sắp xếp lại các cột.\n",
      "Đã loại bỏ các khoảng trắng thừa trong các cột \n"
     ]
    }
   ],
   "source": [
    "# Loại bỏ các cột không cần thiết\n",
    "def remove_unnecessary_columns(df, columns_to_remove):\n",
    "    df.drop(columns=columns_to_remove, inplace=True, errors='ignore')\n",
    "    print(f\"Đã loại bỏ các cột: {columns_to_remove}\")\n",
    "    return df\n",
    "\n",
    "columns_to_remove = ['km_1', 'imp_exp_1']\n",
    "if df is not None:\n",
    "    df = remove_unnecessary_columns(df, columns_to_remove)\n",
    "\n",
    "\n",
    "\n",
    "# Đổi tên cột 'price' thành 'price_words'\n",
    "def rename_column(df, old_name, new_name):\n",
    "    df.rename(columns={old_name: new_name}, inplace=True)\n",
    "    print(f\"Đã đổi tên cột '{old_name}' thành '{new_name}'\")\n",
    "    return df\n",
    "\n",
    "if df is not None:\n",
    "    df = rename_column(df, 'price', 'price_words')\n",
    "\n",
    "\n",
    "\n",
    "# Loại bỏ dấu gạch ngang và dấu gạch dưới trong các cột kiểu chuỗi\n",
    "def clean_string_columns(df):\n",
    "    for col in df.select_dtypes(include=['object']).columns:\n",
    "        if col != 'poster_tel':  # Giữ nguyên dấu gạch ngang trong 'poster_tel'\n",
    "            df[col] = df[col].str.replace('-', ' ').str.replace('_', ' ')\n",
    "    print(\"Đã loại bỏ dấu gạch ngang và dấu gạch dưới \")\n",
    "    return df\n",
    "\n",
    "if df is not None:\n",
    "    df = clean_string_columns(df)\n",
    "\n",
    "\n",
    "\n",
    "# Chuyển đổi cột 'price_words' thành 'price_num' với đơn vị VNĐ\n",
    "def convert_price(price):\n",
    "    match = re.match(r'(\\d+)\\s*(Triệu|Tỷ)', price)\n",
    "    if match:\n",
    "        value, unit = match.groups()\n",
    "        value = int(value.replace('.', '')) \n",
    "        if unit == 'Tỷ':\n",
    "            value *= 1000000000  \n",
    "        elif unit == 'Triệu':\n",
    "            value *= 1000000  \n",
    "        return value\n",
    "    return None\n",
    "\n",
    "def create_price_num_column(df, price_column='price_words', new_column='price_num'):\n",
    "    df[new_column] = df[price_column].apply(convert_price)\n",
    "    print(f\"Đã tạo cột '{new_column}' từ cột '{price_column}'\")\n",
    "    return df\n",
    "\n",
    "# Tạo cột 'price_num'\n",
    "if df is not None:\n",
    "    df = create_price_num_column(df)\n",
    "\n",
    "\n",
    "# Loại bỏ các hàng có giá trị null\n",
    "def remove_null_rows(df):\n",
    "    df.dropna(inplace=True)\n",
    "    print(\"Đã loại bỏ các hàng có giá trị null.\")\n",
    "    return df\n",
    "\n",
    "if df is not None:\n",
    "    df = remove_null_rows(df)\n",
    "\n",
    "# Loại bỏ các hàng có giá trị rỗng trong bất kỳ cột chuỗi nào\n",
    "def remove_empty_rows(df):\n",
    "    df = df[~df.apply(lambda row: row.astype(str).str.strip().eq('').any(), axis=1)]\n",
    "    print(\"Đã loại bỏ các hàng có giá trị rỗng.\")\n",
    "    return df\n",
    "\n",
    "if df is not None:\n",
    "    df = remove_empty_rows(df)\n",
    "\n",
    "\n",
    "\n",
    "# Sắp xếp lại thứ tự các cột \n",
    "def reorder_columns(df, column_order):\n",
    "    df = df[column_order]\n",
    "    print(\"Đã sắp xếp lại các cột.\")\n",
    "    return df\n",
    "\n",
    "# Định nghĩa thứ tự cột mới\n",
    "column_order = ['car_model', 'km', 'imp_exp', 'car_type', 'out_color', 'in_color', 'door_num', 'seat_num', \n",
    "                'new_old', 'car_year', 'title', 'price_words', 'price_num', 'area', 'poster_name', \n",
    "                'poster_add', 'poster_tel']\n",
    "\n",
    "if df is not None:\n",
    "    df = reorder_columns(df, column_order)\n",
    "\n",
    "\n",
    "\n",
    "# Loại bỏ các khoảng trắng thừa trong các cột \n",
    "def remove_extra_spaces(df):\n",
    "    for col in df.select_dtypes(include=['object']).columns:\n",
    "        df[col] = df[col].str.replace(r'\\s+', ' ', regex=True).str.strip()\n",
    "    print(\"Đã loại bỏ các khoảng trắng thừa trong các cột \")\n",
    "    return df\n",
    "\n",
    "if df is not None:\n",
    "    df = remove_extra_spaces(df)\n"
   ]
  },
  {
   "cell_type": "markdown",
   "metadata": {},
   "source": [
    "# 4. normalize data"
   ]
  },
  {
   "cell_type": "code",
   "execution_count": 4,
   "metadata": {},
   "outputs": [
    {
     "name": "stdout",
     "output_type": "stream",
     "text": [
      "Dữ liệu đã được chuẩn hóa.\n"
     ]
    }
   ],
   "source": [
    "def normalize_data(df):\n",
    "    columns_to_normalize_int = ['km', 'door_num', 'seat_num', 'car_year', 'price_num']\n",
    "    \n",
    "    for col in columns_to_normalize_int:\n",
    "        df[col] = df[col].astype(str)  # Đảm bảo cột là kiểu chuỗi\n",
    "        df[col] = df[col].str.replace(r'\\D', '', regex=True)  # Loại bỏ tất cả ký tự không phải là chữ số\n",
    "        df[col] = df[col].replace('', '0')  # Thay thế các giá trị trống bằng '0'\n",
    "        df[col] = df[col].astype(int)  \n",
    "\n",
    "\n",
    "    for col in df.select_dtypes(include=['object']).columns:\n",
    "        if col not in columns_to_normalize_int:  \n",
    "            df[col] = df[col].astype(str)\n",
    "        \n",
    "    print(\"Dữ liệu đã được chuẩn hóa.\")\n",
    "    return df\n",
    "\n",
    "if df is not None:\n",
    "    df = normalize_data(df)\n"
   ]
  },
  {
   "cell_type": "markdown",
   "metadata": {},
   "source": [
    "# 5. Check"
   ]
  },
  {
   "cell_type": "code",
   "execution_count": 5,
   "metadata": {},
   "outputs": [
    {
     "name": "stdout",
     "output_type": "stream",
     "text": [
      "car_model      object\n",
      "km              int64\n",
      "imp_exp        object\n",
      "car_type       object\n",
      "out_color      object\n",
      "in_color       object\n",
      "door_num        int64\n",
      "seat_num        int64\n",
      "new_old        object\n",
      "car_year        int64\n",
      "title          object\n",
      "price_words    object\n",
      "price_num       int64\n",
      "area           object\n",
      "poster_name    object\n",
      "poster_add     object\n",
      "poster_tel     object\n",
      "dtype: object\n"
     ]
    }
   ],
   "source": [
    "# Kiểm tra kiểu dữ liệu của các cột\n",
    "def check_data_types(df):\n",
    "    print(df.dtypes)\n",
    "\n",
    "if df is not None:\n",
    "    check_data_types(df)\n"
   ]
  },
  {
   "cell_type": "code",
   "execution_count": 6,
   "metadata": {},
   "outputs": [
    {
     "name": "stdout",
     "output_type": "stream",
     "text": [
      "Không còn giá trị null trong DataFrame.\n"
     ]
    }
   ],
   "source": [
    "# Kiểm tra số lượng giá trị null trong mỗi cột\n",
    "def check_nulls(df):\n",
    "    null_counts = df.isnull().sum()\n",
    "    if null_counts.sum() == 0:\n",
    "        print(\"Không còn giá trị null trong DataFrame.\")\n",
    "    else:\n",
    "        print(f\"Có giá trị null trong các cột sau:\\n{null_counts[null_counts > 0]}\")\n",
    "    return null_counts\n",
    "\n",
    "if df is not None:\n",
    "    check_nulls(df)\n"
   ]
  },
  {
   "cell_type": "markdown",
   "metadata": {},
   "source": [
    "# 6. Save"
   ]
  },
  {
   "cell_type": "code",
   "execution_count": 7,
   "metadata": {},
   "outputs": [
    {
     "name": "stdout",
     "output_type": "stream",
     "text": [
      "Dữ liệu đã được lưu tại: D:\\HTP\\Project-personal\\PriceCar\\dataset\\processed\\car.csv\n"
     ]
    }
   ],
   "source": [
    "# Lưu dữ liệu đã transform vào file CSV mới\n",
    "def save_data(df, output_file):\n",
    "    try:\n",
    "        if os.path.exists(output_file):\n",
    "            os.remove(output_file)  # Kiểm tra nếu file đã tồn tại thì xóa\n",
    "        df.to_csv(output_file, index=False, encoding='utf-8')\n",
    "        print(f\"Dữ liệu đã được lưu tại: {output_file}\")\n",
    "    except Exception as e:\n",
    "        print(f\"Không thể lưu dữ liệu: {e}\")\n",
    "\n",
    "output_file = r\"D:\\HTP\\Project-personal\\PriceCar\\dataset\\processed\\car.csv\"\n",
    "\n",
    "if df is not None:\n",
    "    save_data(df, output_file)\n"
   ]
  }
 ],
 "metadata": {
  "kernelspec": {
   "display_name": ".venv",
   "language": "python",
   "name": "python3"
  },
  "language_info": {
   "codemirror_mode": {
    "name": "ipython",
    "version": 3
   },
   "file_extension": ".py",
   "mimetype": "text/x-python",
   "name": "python",
   "nbconvert_exporter": "python",
   "pygments_lexer": "ipython3",
   "version": "3.11.9"
  }
 },
 "nbformat": 4,
 "nbformat_minor": 2
}
